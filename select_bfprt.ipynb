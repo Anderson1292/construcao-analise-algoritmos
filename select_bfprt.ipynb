{
  "nbformat": 4,
  "nbformat_minor": 0,
  "metadata": {
    "colab": {
      "provenance": []
    },
    "kernelspec": {
      "name": "python3",
      "display_name": "Python 3"
    },
    "language_info": {
      "name": "python"
    }
  },
  "cells": [
    {
      "cell_type": "markdown",
      "source": [
        "##Passo 1\n",
        "Implementar o algoritmo Select-BFPRT em Python. Como entrada o algoritmo deve receber uma tripla (x,y,z) onde x é um vetor de y posições e 1 <= z <= y é um inteiro. Como saída deverá retornar o z-ésimo maior elemento do vetor."
      ],
      "metadata": {
        "id": "lgjpyY_AIM-O"
      }
    },
    {
      "cell_type": "markdown",
      "source": [
        "###Select BFPRT\n",
        "A função select-bfprt é utilizada para encontrar o k-ésimo menor elemento de um vetor através do algortimo BFPRT(mediana das medianas) - para esta atividade o algoritmo foi modificado para encontrar o k-ésimo maior elemento do vetor - divindo o vetor em grupos de tamanho 5 a fim de encontrar as medianas de cada grupo e usar esta mediana para dividir o array em três partes menores, continuando a busca na parte correta até encontrar o elemento desejado.\n"
      ],
      "metadata": {
        "id": "WFR0AXwfKt6q"
      }
    },
    {
      "cell_type": "code",
      "source": [
        "import random\n",
        "\n",
        "def select_bfprt(x, y, z):\n",
        "    if len(x) <= z:\n",
        "        return sorted(x)[y]\n",
        "\n",
        "    # Divide o array em grupos de tamanho r e encontra as medianas de cada grupo\n",
        "    groups = [x[i:i+r] for i in range(0, len(x), z)]\n",
        "    medians = [select_bfprt(group, len(group)//2, z) for group in groups]\n",
        "\n",
        "    # Encontra a mediana das medianas\n",
        "    median_of_medians = select_bfprt(medians, len(medians)//2, z)\n",
        "\n",
        "    # Divide o array em três partes com base na mediana das medianas\n",
        "    smaller = [a for a in x if a < median_of_medians]\n",
        "    equal = [a for a in x if a == median_of_medians]\n",
        "    larger = [a for a in x if a > median_of_medians]\n",
        "\n",
        "    if y < len(smaller):\n",
        "        return select_bfprt(smaller, y, z)\n",
        "    elif y < len(smaller) + len(equal):\n",
        "        return median_of_medians\n",
        "    else:\n",
        "        return select_bfprt(larger, y - len(smaller) - len(equal), z)"
      ],
      "metadata": {
        "id": "935gzUgfIJMM"
      },
      "execution_count": 2,
      "outputs": []
    },
    {
      "cell_type": "markdown",
      "source": [
        "###Partition BFPRT\n",
        "A função partition-bfprt recebe como argumento um array e os indíces que definem o intervalo de particionamento.Para este caso o indíce do pivô foi escolhido de forma aleatória dentro do intervalo, move o pivô para a extrema direita do intervalo e rearranja os elementos de forma que todos os elementos menores que o pivô estajam à esquerda e todos os elementos maiores estejam à direita do pivô. Em seguida a função retorna o indíce final do pivô após a partição."
      ],
      "metadata": {
        "id": "h9394_chNoVl"
      }
    },
    {
      "cell_type": "code",
      "source": [
        "def partition_bfprt(arr, left, right):\n",
        "    while left < right:\n",
        "        # Escolhe aleatoriamente um índice de pivô\n",
        "        pivot_index = random.randint(left, right)\n",
        "\n",
        "        # Obtém o valor do pivô\n",
        "        pivot_value = arr[pivot_index]\n",
        "\n",
        "        # Move o pivô para a extrema direita\n",
        "        arr[pivot_index], arr[right] = arr[right], arr[pivot_index]\n",
        "\n",
        "        store_index = left\n",
        "        for i in range(left, right):\n",
        "            if arr[i] < pivot_value:\n",
        "                arr[i], arr[store_index] = arr[store_index], arr[i]\n",
        "                store_index += 1\n",
        "        arr[store_index], arr[right] = arr[right], arr[store_index]\n",
        "\n",
        "        # Decide qual subarray continuar\n",
        "        if pivot_index == store_index:\n",
        "            return arr[pivot_index]\n",
        "        elif pivot_index < store_index:\n",
        "            right = store_index - 1\n",
        "        else:\n",
        "            left = store_index + 1\n",
        "\n",
        "    return arr[left]"
      ],
      "metadata": {
        "id": "Hy0hYULTNcSr"
      },
      "execution_count": 3,
      "outputs": []
    },
    {
      "cell_type": "markdown",
      "source": [
        "###Caso de teste\n",
        "A estrutura \"if __name__ == __main__\" é frequentemente usada em scripts Python para garantir que o código dentro dela só seja executado quando o arquivo Python é executado diretamente como um programa e não quando é importado como módulo em outro script."
      ],
      "metadata": {
        "id": "IPVZInNTTfs-"
      }
    },
    {
      "cell_type": "code",
      "source": [
        "\n",
        "if __name__ == \"__main__\":\n",
        "    vetor = [3, 2, 1, 5, 4, 8, 6, 7]\n",
        "    r = 5  # Tamanho do intervalo\n",
        "    z = 4  # Queremos encontrar o 4º maior elemento (índice 3)\n",
        "    resultado = select_bfprt(vetor, len(vetor) - z, r)\n",
        "    print(f\"{z}-ésimo maior elemento: {resultado}\")"
      ],
      "metadata": {
        "colab": {
          "base_uri": "https://localhost:8080/"
        },
        "id": "YyBAlwIPNiYo",
        "outputId": "cbba5218-2b8c-4768-e6bd-473078502d47"
      },
      "execution_count": 4,
      "outputs": [
        {
          "output_type": "stream",
          "name": "stdout",
          "text": [
            "4-ésimo maior elemento: 5\n"
          ]
        }
      ]
    },
    {
      "cell_type": "markdown",
      "source": [
        "##Passo 2\n",
        "Implementar uma invariante do algoritmo que receberá um outro valor \"r\" que definirá o tamanho do intervalo que será ordenado na chamada recursiva. No Passo 1 o intervalo utlizado no algoritmo tinha tamanho 5. Para cada um dos casos r ∈ {3,5,7,9,11}, calcule o tempo médio do algoritmo através de testes computacionais para cada valor cada valor de r.\n",
        "\n",
        "Para a realização dos testes deve-se gerar aleatoriamente um mihão de triplas (x,y,z), onde y >= 1000000. Além disso, deve-se calcular, também, o tempo médio que cada algoritmo leva para resolver essas instâncias."
      ],
      "metadata": {
        "id": "kJbrALF1ddxf"
      }
    },
    {
      "cell_type": "markdown",
      "source": [
        "###Select BFPRT with R\n",
        "Modificada a partir da função select-bfprt, o algoritmo select-bfprt-with-r recebe como parâmetro uma variável \"r\" que definirá o tamanho o tamanho do intervalo que será ordenado recursivamnete. Para cada caso r ∈ {3,5,7,9,11}."
      ],
      "metadata": {
        "id": "UIIkjvOOiK92"
      }
    },
    {
      "cell_type": "code",
      "source": [
        "def select_bfprt_with_r(x, y, z, r):\n",
        "    if y <= r:\n",
        "        return sorted(x)[z - 1]\n",
        "\n",
        "    # Divide o array em grupos de tamanho r e encontra as medianas de cada grupo\n",
        "    groups = [x[i:i+r] for i in range(0, y, r)]\n",
        "    medians = [select_bfprt(group, len(group) // 2, r) for group in groups]\n",
        "\n",
        "    # Encontra a mediana das medianas\n",
        "    median_of_medians = select_bfprt(medians, len(medians) // 2, r)\n",
        "\n",
        "    # Divide o array em três partes com base na mediana das medianas\n",
        "    smaller = [elem for elem in x if elem < median_of_medians]\n",
        "    equal = [elem for elem in x if elem == median_of_medians]\n",
        "    larger = [elem for elem in x if elem > median_of_medians]\n",
        "\n",
        "    if z <= len(smaller):\n",
        "        return select_bfprt_with_r(smaller, len(smaller), z, r)\n",
        "    elif z <= len(smaller) + len(equal):\n",
        "        return median_of_medians\n",
        "    else:\n",
        "        return select_bfprt_with_r(larger, len(larger), z - len(smaller) - len(equal), r)"
      ],
      "metadata": {
        "id": "MtokutD2AJtO"
      },
      "execution_count": 5,
      "outputs": []
    },
    {
      "cell_type": "markdown",
      "source": [
        "###Random Triples\n",
        "Este trecho de código gera aleatoriamente 1000 triplas (x,y,z)"
      ],
      "metadata": {
        "id": "7DG39YpCsSWk"
      }
    },
    {
      "cell_type": "code",
      "source": [
        "import random\n",
        "import time\n",
        "\n",
        "def random_triples(num_instances):\n",
        "    triples = []\n",
        "    for _ in range(num_instances):\n",
        "        y = random.randint(100,1000) # y maior ou igual a 1,000\n",
        "        x = [random.randint(1, 1000) for _ in range(y)]  # Criar vetor x aleatório\n",
        "        z = random.randint(1, y)  # z entre 1 e y\n",
        "        triples.append((x, y, z))\n",
        "    return triples"
      ],
      "metadata": {
        "id": "quayXVJlnCg2"
      },
      "execution_count": 7,
      "outputs": []
    },
    {
      "cell_type": "markdown",
      "source": [
        "###Measure Time\n",
        "A função measure-time mede o tempo médio de execução do select-bfprt-with-r com os valores do intervalo fornecido para r."
      ],
      "metadata": {
        "id": "Z4rd2qv_8tJi"
      }
    },
    {
      "cell_type": "code",
      "source": [
        "def measure_time(triples, r):\n",
        "    total_time = 0\n",
        "    for triple in triples:\n",
        "        x, y, z = triple\n",
        "        start_time = time.time()\n",
        "        select_bfprt_with_r(x, y,z, r)\n",
        "        end_time = time.time()\n",
        "        total_time += end_time - start_time\n",
        "    return total_time / len(triples)\n",
        "\n",
        "# Executar testes para diferentes valores de r\n",
        "num_instances = 1000\n",
        "triples = random_triples(num_instances)\n",
        "r_values = [3, 5, 7, 9, 11]\n",
        "\n",
        "for r in r_values:\n",
        "    avg_time = measure_time(triples, r)\n",
        "    print(f\"Tempo médio para r = {r}: {avg_time} segundos\")"
      ],
      "metadata": {
        "colab": {
          "base_uri": "https://localhost:8080/"
        },
        "id": "eDKCs18a9Xf5",
        "outputId": "ffadc69a-2303-4666-936f-bdaf09ae91ef"
      },
      "execution_count": 10,
      "outputs": [
        {
          "output_type": "stream",
          "name": "stdout",
          "text": [
            "Tempo médio para r = 3: 0.0020196006298065184 segundos\n",
            "Tempo médio para r = 5: 0.0008179600238800049 segundos\n",
            "Tempo médio para r = 7: 0.00041740059852600096 segundos\n",
            "Tempo médio para r = 9: 0.0003578159809112549 segundos\n",
            "Tempo médio para r = 11: 0.00035724234580993653 segundos\n"
          ]
        }
      ]
    }
  ]
}